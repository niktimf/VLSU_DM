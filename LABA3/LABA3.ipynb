{
 "cells": [
  {
   "cell_type": "markdown",
   "source": [
    "Министерство образования и науки Российской Федерации\n",
    "Федеральное государственное бюджетное образовательное учреждение\n",
    "высшего профессионального образования\n",
    "«Владимирский государственный университет\n",
    "имени Александра Григорьевича и Николая Григорьевича Столетовых»\n",
    "(ВлГУ)\n",
    "\n",
    "Кафедра информационных систем и программной инженерии\n",
    "\n",
    "\n",
    "\n",
    "\n",
    "\n",
    "\n",
    "\n",
    "\n",
    "Лабораторная работа №3\n",
    "по  дисциплине  \"Теоретические основы дискретных вычислений\"\n",
    "Тема: \"Построение минимальной ДНФ булевой функции\"\n",
    "\n",
    "\n",
    "\n",
    "\n",
    "\n",
    "\n",
    "\n",
    "Выполнил:\n",
    "студент гр. ИСТ-115\n",
    "Курочкин М.В.\n",
    "\n",
    "\n",
    "Приняла:\n",
    "Шамышева О.Н.\n",
    "\n",
    "\n",
    "\n",
    "\n",
    "\n",
    "\n",
    "\n",
    "\n",
    "Владимир 2016 г.\n"
   ],
   "metadata": {
    "collapsed": false,
    "pycharm": {
     "name": "#%% md\n"
    }
   }
  },
  {
   "cell_type": "markdown",
   "source": [
    "Задание 1"
   ],
   "metadata": {
    "collapsed": false,
    "pycharm": {
     "name": "#%% md\n"
    }
   }
  },
  {
   "cell_type": "markdown",
   "source": [
    "Цель работы\n",
    "Научиться строить минимальную дизъюнктивно нормальную форму булевой функции заданной таблицей истинности.\n"
   ],
   "metadata": {
    "collapsed": false,
    "pycharm": {
     "name": "#%% md\n"
    }
   }
  },
  {
   "cell_type": "code",
   "execution_count": 6,
   "outputs": [],
   "source": [
    "class Config:\n",
    "\t\"\"\"\n",
    "\tКласс для хранения констант\n",
    "\n",
    "\t- VARIANT: Номер варианта.\n",
    "\t- NUM_VARS: Количество переменных в функции.\n",
    "\t\"\"\"\n",
    "\n",
    "\tVARIANT = 50\n",
    "\tNUM_VARS = 4 # A, B, C, D"
   ],
   "metadata": {
    "collapsed": false,
    "pycharm": {
     "name": "#%%\n"
    }
   }
  },
  {
   "cell_type": "code",
   "execution_count": null,
   "outputs": [],
   "source": [
    "import pandas as pd\n",
    "from itertools import product\n",
    "\n",
    "class LogicalFunction:\n",
    "\tdef __init__(self):\n",
    "\t\tpass\n",
    "\n",
    "\t@staticmethod\n",
    "\tdef variant_to_function(variant, num_vars):\n",
    "\t\t\"\"\"\n",
    "        Преобразует номер варианта в инвертированное двоичное представление.\n",
    "        :param variant: Номер варианта.\n",
    "        :param num_vars: Количество переменных в функции.\n",
    "        :return: Инвертированное двоичное представление номера варианта.\n",
    "        \"\"\"\n",
    "\t\t# Преобразование варианта в двоичную форму и обрезка до num_vars битов\n",
    "\t\tbinary_repr = bin(variant)[2:].zfill(num_vars)[-num_vars:]\n",
    "\t\t# Инверсия каждого бита\n",
    "\t\tinverted_binary = ''.join(['1' if bit == '0' else '0' for bit in binary_repr])\n",
    "\t\treturn inverted_binary\n",
    "\n",
    "\t@staticmethod\n",
    "\tdef build_truth_table(f_binary):\n",
    "\t\t\"\"\"\n",
    "\t\tПостроение таблицы истинности для заданного двоичного представления функции F.\n",
    "\t\t:param f_binary: Двоичное представление функции F.\n",
    "\t\t:return: DataFrame с таблицей истинности.\n",
    "\t\t\"\"\"\n",
    "\t\t# Использование itertools.product для генерации всех комбинаций\n",
    "\t\tcombinations = product([0, 1], repeat=Config.NUM_VARS)\n",
    "\n",
    "\t\t# Использование генератора списков для создания таблицы истинности\n",
    "\t\ttruth_table = [\n",
    "\t\t\tlist(combination) + [1 if ''.join(map(str, combination)) == f_binary else 0]\n",
    "\t\t\tfor combination in combinations\n",
    "\t\t]\n",
    "\n",
    "\t\treturn pd.DataFrame(truth_table, columns=['A', 'B', 'C', 'D', 'F'])\n",
    "\n",
    "\t@staticmethod\n",
    "\tdef find_dnf(truth_table):\n",
    "\t\t\"\"\"\n",
    "\t\tНаходит ДНФ для функции на основе таблицы истинности.\n",
    "\t\t:param truth_table: DataFrame с таблицей истинности.\n",
    "\t\t:return: Строка с ДНФ.\n",
    "\t\t\"\"\"\n",
    "\t\t# Использование генератора списков для создания ДНФ\n",
    "\t\tdnf = ' | '.join([\n",
    "\t\t\t' & '.join([f\"{var}\" if row[var] else f\"¬{var}\" for var in ['A', 'B', 'C', 'D']])\n",
    "\t\t\tfor _, row in truth_table.iterrows() if row['F'] == 1\n",
    "\t\t])\n",
    "\t\treturn dnf\n",
    "\n",
    "\n",
    "logical_function = LogicalFunction()\n",
    "inverted_binary = logical_function.variant_to_function(Config.VARIANT, Config.NUM_VARS)\n",
    "truth_table_df = logical_function.build_truth_table(inverted_binary)\n",
    "dnf = logical_function.find_dnf(truth_table_df)\n",
    "print(f'Значение F при варианте {Config.VARIANT} и количестве переменных {Config.NUM_VARS}: {inverted_binary}')\n",
    "print(f'Таблица истинности')\n",
    "print(truth_table_df)\n",
    "print(f'ДНФ: {dnf}')\n"
   ],
   "metadata": {
    "collapsed": false,
    "pycharm": {
     "name": "#%%\n"
    }
   }
  },
  {
   "cell_type": "markdown",
   "source": [
    "![](31.png)\n",
    "\n",
    "Рис. 1: Результат работы программы"
   ],
   "metadata": {
    "collapsed": false,
    "pycharm": {
     "name": "#%% md\n"
    }
   }
  },
  {
   "cell_type": "markdown",
   "source": [
    "Выводы по 1 работе:\n",
    "\n",
    "Определение Функции F:\n",
    "\n",
    "Исходный вариант: 50.\n",
    "Двоичное представление (4 бита): 0010.\n",
    "Инвертированное двоичное представление: 1101.\n",
    "Функция F определена как: F = инверсия(0010) = 1101.\n",
    "\n",
    "Построение Таблицы Истинности:\n",
    "Таблица истинности включает переменных A, B, C, D, а также их конъюнкции.\n",
    "\n",
    "Вычисление Дизъюнктивной Нормальной Формы (ДНФ):\n",
    "Поскольку F равно 1 только для комбинации 1101 (A = 1, B = 1, C = 0, D = 1), ДНФ функции F выражается как:\n",
    "\n",
    "F=A∧B∧¬C∧D\n",
    "\n",
    "Я освоил построение минимальной ДНФ булевой функции.\n",
    "Научился использовать подходы в программировании для построения таблиц истинности на языке программирования Python.\n",
    "Эти навыки расширяют мои возможности в области алгоритмического мышления, анализа логических структур и реализации сложных логических функций."
   ],
   "metadata": {
    "collapsed": false,
    "pycharm": {
     "name": "#%% md\n"
    }
   }
  },
  {
   "cell_type": "markdown",
   "source": [
    "Задание 2"
   ],
   "metadata": {
    "collapsed": false,
    "pycharm": {
     "name": "#%% md\n"
    }
   }
  },
  {
   "cell_type": "code",
   "execution_count": null,
   "outputs": [],
   "source": [
    "class RecursiveTruthTableBuilder:\n",
    "\t\"\"\"\n",
    "    Класс для построения таблицы истинности с использованием рекурсивного поразрядного сумматора.\n",
    "    Он генерирует все возможные комбинации логических переменных, имена которых задаются пользователем.\n",
    "    \"\"\"\n",
    "\tdef __init__(self, variables):\n",
    "\t\t\"\"\"\n",
    "        Инициализирует класс с заданным списком переменных.\n",
    "        :param variables: Список названий логических переменных для таблицы истинности.\n",
    "        \"\"\"\n",
    "\t\tself.variables = variables  # Список переменных для таблицы истинности\n",
    "\n",
    "\tdef generate_combinations(self, current_vars=None, position=0):\n",
    "\t\t\"\"\"\n",
    "        Рекурсивно генерирует все комбинации логических переменных.\n",
    "        :param current_vars: Текущая комбинация переменных на данном этапе рекурсии.\n",
    "        :param position: Текущая позиция в списке переменных.\n",
    "        \"\"\"\n",
    "\t\tif current_vars is None:\n",
    "\t\t\tcurrent_vars = []\n",
    "\n",
    "\t\tif position == len(self.variables):\n",
    "\t\t\tself.truth_table.append(current_vars.copy())\n",
    "\t\t\treturn\n",
    "\n",
    "\t\t# Для каждой переменной генерируем 0 и 1\n",
    "\t\tfor val in [0, 1]:\n",
    "\t\t\tcurrent_vars.append(val)\n",
    "\t\t\tself.generate_combinations(current_vars, position + 1)\n",
    "\t\t\tcurrent_vars.pop()\n",
    "\n",
    "\tdef build_table(self):\n",
    "\t\t\"\"\"\n",
    "        Построение и возвращение DataFrame с таблицей истинности.\n",
    "        :return: DataFrame с таблицей истинности.\n",
    "        \"\"\"\n",
    "\t\tself.truth_table = []  # Инициализация таблицы истинности\n",
    "\t\tself.generate_combinations()\n",
    "\t\treturn pd.DataFrame(self.truth_table, columns=self.variables)\n",
    "\n",
    "\n",
    "variables = ['A', 'B', 'C']\n",
    "table_builder = RecursiveTruthTableBuilder(variables)\n",
    "truth_table = table_builder.build_table()\n",
    "truth_table\n",
    "\n",
    "\n"
   ],
   "metadata": {
    "collapsed": false,
    "pycharm": {
     "name": "#%%\n"
    }
   }
  },
  {
   "cell_type": "markdown",
   "source": [
    "![](32.png)\n",
    "\n",
    "Рис. 2: Результат работы программы"
   ],
   "metadata": {
    "collapsed": false,
    "pycharm": {
     "name": "#%% md\n"
    }
   }
  },
  {
   "cell_type": "markdown",
   "source": [
    "Выводы:\n",
    "Описание Класса RecursiveTruthTableBuilder\n",
    "Этот класс предназначен для генерации таблицы истинности для заданного набора логических переменных. Он позволяет задать любое количество переменных и автоматически генерирует все комбинации их значений.\n",
    "\n",
    "Достоинства и Недостатки Использования Рекурсии\n",
    "Достоинства:\n",
    "Лаконичность Кода: Рекурсия позволяет сократить количество кода, делая его более читаемым и понятным.\n",
    "Простота Реализации: Рекурсивные функции часто более просты в реализации для задач, связанных с перебором или итерацией по деревьям и графам.\n",
    "\n",
    "Недостатки:\n",
    "Ограничение Глубины Стека: В языках программирования, таких как Python, существует ограничение на глубину рекурсивных вызовов, что может привести к ошибке переполнения стека.\n",
    "Производительность: Рекурсивные алгоритмы могут быть менее эффективными с точки зрения времени выполнения и использования памяти, особенно при большом объеме данных.\n",
    "\n",
    "Альтернативные Методы Генерации Таблицы Истинности\n",
    "\n",
    "Итеративные Методы: Простой цикл for или while может использоваться для генерации всех комбинаций, что устраняет риск переполнения стека.\n",
    "Битовые Операции: Использование битовых операций для эффективного перебора всех возможных состояний переменных."
   ],
   "metadata": {
    "collapsed": false,
    "pycharm": {
     "name": "#%% md\n"
    }
   }
  },
  {
   "cell_type": "markdown",
   "source": [
    "Задание 3"
   ],
   "metadata": {
    "collapsed": false,
    "pycharm": {
     "name": "#%% md\n"
    }
   }
  },
  {
   "cell_type": "markdown",
   "source": [
    "рекурсивный сумматор для системы счисления N"
   ],
   "metadata": {
    "collapsed": false,
    "pycharm": {
     "name": "#%% md\n"
    }
   }
  },
  {
   "cell_type": "code",
   "execution_count": null,
   "outputs": [],
   "source": [
    "def recursive_sum(a, b, base, carry=0):\n",
    "\t\"\"\"\n",
    "    Рекурсивно складывает два числа в системе счисления с основанием base.\n",
    "    :param a: первое число (строка).\n",
    "    :param b: второе число (строка).\n",
    "    :param base: основание системы счисления.\n",
    "    :param carry: перенос из предыдущего разряда.\n",
    "    :return: сумма в виде строки.\n",
    "    \"\"\"\n",
    "\tif not a and not b and not carry:\n",
    "\t\treturn ''\n",
    "\n",
    "\ta_last, b_last = (int(a[-1]) if a else 0), (int(b[-1]) if b else 0)\n",
    "\ttotal = a_last + b_last + carry\n",
    "\n",
    "\tcarry = total // base\n",
    "\ttotal %= base\n",
    "\n",
    "\treturn recursive_sum(a[:-1], b[:-1], base, carry) + str(total)\n",
    "\n",
    "a = '1234'  # Число в системе с основанием N\n",
    "b = '5678'  # Ещё одно число в той же системе\n",
    "base = 10   # Десятичная система счисления\n",
    "result = recursive_sum(a, b, base)\n",
    "print(f\"Сумма чисел {a} и {b} равна {result}\")"
   ],
   "metadata": {
    "collapsed": false,
    "pycharm": {
     "name": "#%%\n"
    }
   }
  },
  {
   "cell_type": "markdown",
   "source": [
    "![](33.png)"
   ],
   "metadata": {
    "collapsed": false,
    "pycharm": {
     "name": "#%% md\n"
    }
   }
  }
 ],
 "metadata": {
  "kernelspec": {
   "display_name": "Python 3",
   "language": "python",
   "name": "python3"
  },
  "language_info": {
   "codemirror_mode": {
    "name": "ipython",
    "version": 2
   },
   "file_extension": ".py",
   "mimetype": "text/x-python",
   "name": "python",
   "nbconvert_exporter": "python",
   "pygments_lexer": "ipython2",
   "version": "2.7.6"
  }
 },
 "nbformat": 4,
 "nbformat_minor": 0
}