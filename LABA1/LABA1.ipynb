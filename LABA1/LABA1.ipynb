{
 "cells": [
  {
   "cell_type": "markdown",
   "source": [
    "# Лабораторная работа 1"
   ],
   "metadata": {
    "collapsed": false,
    "pycharm": {
     "name": "#%% md\n"
    }
   }
  },
  {
   "cell_type": "markdown",
   "source": [
    "Министерство образования и науки Российской Федерации\n",
    "Федеральное государственное бюджетное образовательное учреждение высшего образования\n",
    "«Владимирский государственный университет имени Александра Григорьевича и Николая Григорьевича Столетовых»\n",
    "(ВлГУ)\n",
    "\n",
    "Кафедра информационных систем и программной инженерии\n",
    "\n",
    "\n",
    "Лабораторная работа № 1\n",
    "по дисциплине\n",
    "«ТЕОРЕТИЧЕСКИЕ ОСНОВЫ ДИСКРЕТНЫХ ВЫЧИСЛЕНИЙ»\n",
    "Тема: Операции над множествами\n",
    "\n",
    "\n",
    "Выполнила:\n",
    "ст. гр. ПРИ-117\n",
    "А.И. Рощина\n",
    "\n",
    "\n",
    "Приняла:\n",
    "Шамышева О.Н.\n",
    "\n",
    "\n",
    "\n",
    "\n",
    "Владимир, 2017\n"
   ],
   "metadata": {
    "collapsed": false,
    "pycharm": {
     "name": "#%% md\n"
    }
   }
  },
  {
   "cell_type": "markdown",
   "source": [
    "ЦЕЛЬ РАБОТЫ\n",
    "Освоить операции над множествами и изображение множеств в соответствии с формулами.\n",
    "ЗАДАЧА №30 (вариант 30)\n",
    "1.\tУСЛОВИЕ\n",
    "Пусть А, В и С – множества точек плоскости, координаты которых удовлетворяют условиям α, β, и γ соответственно. Изобразите в системе координат X0Y множество D, полученное из множеств A, B и С по формуле δ.\n",
    "\n",
    "\n",
    "![](11.png)\n",
    "Рис 1. Условия задачи"
   ],
   "metadata": {
    "collapsed": false,
    "pycharm": {
     "name": "#%% md\n"
    }
   }
  },
  {
   "cell_type": "markdown",
   "source": [
    "2. ПРОГРАММИРОВАНИЕ"
   ],
   "metadata": {
    "collapsed": false,
    "pycharm": {
     "name": "#%% md\n"
    }
   }
  },
  {
   "cell_type": "code",
   "execution_count": null,
   "outputs": [],
   "source": [
    "import numpy as np\n",
    "import matplotlib.pyplot as plt\n",
    "\n",
    "class SetOperations:\n",
    "\t\"\"\"\n",
    "\tКласс для выполнения операций над множествами на плоскости.\n",
    "\t\"\"\"\n",
    "\tdef __init__(self, x_range, y_range):\n",
    "\t\t\"\"\"\n",
    "\t\tИнициализация класса с диапазонами значений x и y.\n",
    "        :param x_range: Диапазон значений x.\n",
    "        :param y_range: Диапазон значений y.\n",
    "\t\t\"\"\"\n",
    "\t\tself.x_range = x_range\n",
    "\t\tself.y_range = y_range\n",
    "\t\tself.X, self.Y = np.meshgrid(self.x_range, self.y_range)\n",
    "\n",
    "\tdef set_a(self):\n",
    "\t\t\"\"\"\n",
    "\t\tОпределение множества A.\n",
    "        :return: Множество A.\n",
    "\t\t\"\"\"\n",
    "\t\treturn (2 <= self.X) & (self.X <= 6) & (-3 <= self.Y) & (self.Y <= 1)\n",
    "\n",
    "\tdef set_b(self):\n",
    "\t\t\"\"\"\n",
    "\t\tОпределение множества B.\n",
    "        :return: Множество B.\n",
    "\t\t\"\"\"\n",
    "\t\treturn (0 <= self.Y) & (self.Y <= np.sqrt(self.X))\n",
    "\n",
    "\tdef set_c(self):\n",
    "\t\t\"\"\"\n",
    "\t\tОпределение множества C.\n",
    "        :return: Множество C.\n",
    "\t\t\"\"\"\n",
    "\t\treturn self.X ** 2 - 12 * self.X + self.Y ** 2 <= 0\n",
    "\n",
    "\t@staticmethod\n",
    "\tdef symmetric_difference(set1, set2):\n",
    "\t\t\"\"\"\n",
    "\t\tВычисление симметрической разности двух множеств.\n",
    "        :param set1: Первое множество.\n",
    "        :param set2: Второе множество.\n",
    "        :return: Симметрическая разность множеств.\n",
    "\t\t\"\"\"\n",
    "\t\treturn np.logical_xor(set1, set2)\n",
    "\n",
    "\tdef plot_set(self, set_data, title):\n",
    "\t\t\"\"\"\n",
    "\t\tПостроение графика множества.\n",
    "        :param set_data: Данные множества для построения.\n",
    "        :param title: Название графика.\n",
    "\t\t\"\"\"\n",
    "\t\tplt.figure(figsize=(8, 8))\n",
    "\t\tplt.contourf(self.X, self.Y, set_data, cmap=\"Blues\")\n",
    "\t\tplt.title(title)\n",
    "\t\tplt.xlabel(\"X\")\n",
    "\t\tplt.ylabel(\"Y\")\n",
    "\t\tplt.grid(True)\n",
    "\t\tplt.show()\n",
    "\n",
    "# Создание диапазонов для x и y\n",
    "x = np.linspace(-6, 6, 400)\n",
    "y = np.linspace(-6, 6, 400)\n",
    "\n",
    "# Создание объекта для операций с множествами\n",
    "set_operations = SetOperations(x, y)\n",
    "\n",
    "# Определение множеств A, B и C\n",
    "A = set_operations.set_a()\n",
    "B = set_operations.set_b()\n",
    "C = set_operations.set_c()\n",
    "\n",
    "# Вычисление множества D как (A Δ B) Δ C\n",
    "D = set_operations.symmetric_difference(set_operations.symmetric_difference(A, B), C)\n",
    "\n",
    "# Построение графика множества D\n",
    "set_operations.plot_set(D, \"(A Δ B) Δ C\")\n"
   ],
   "metadata": {
    "collapsed": false,
    "pycharm": {
     "name": "#%%\n",
     "is_executing": true
    }
   }
  },
  {
   "cell_type": "markdown",
   "source": [
    "3. РАБОТА ПРОГРАММЫ\n",
    "\n",
    "![](12.png)\n",
    "Рис 2. Результат работы программы\n",
    "\n",
    "ВЫВОДЫ\n",
    "В ходе данной работы были рассмотрены операции над множествами, реализованные с использованием языка программирования Python и его математических библиотек NumPy и Matplotlib. Это позволило углубить понимание объектно-ориентированного программирования и освоить методы работы с многомерными массивами и визуализацией данных. Также был расширен опыт в использовании интегрированной среды разработки для Python, что способствует улучшению навыков программирования и аналитического мышления. Кроме того, при подготовке отчета были использованы возможности программного обеспечения для оформления документации, Microsoft Word."
   ],
   "metadata": {
    "collapsed": false,
    "pycharm": {
     "name": "#%% md\n"
    }
   }
  }
 ],
 "metadata": {
  "kernelspec": {
   "display_name": "Python 3",
   "language": "python",
   "name": "python3"
  },
  "language_info": {
   "codemirror_mode": {
    "name": "ipython",
    "version": 2
   },
   "file_extension": ".py",
   "mimetype": "text/x-python",
   "name": "python",
   "nbconvert_exporter": "python",
   "pygments_lexer": "ipython2",
   "version": "2.7.6"
  }
 },
 "nbformat": 4,
 "nbformat_minor": 0
}